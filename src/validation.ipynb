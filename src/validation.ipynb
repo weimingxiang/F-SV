{
 "cells": [
  {
   "cell_type": "code",
   "execution_count": 1,
   "id": "355615a0",
   "metadata": {},
   "outputs": [
    {
     "name": "stderr",
     "output_type": "stream",
     "text": [
      "In /home/xwm/anaconda3/envs/SV/lib/python3.6/site-packages/matplotlib/mpl-data/stylelib/_classic_test.mplstyle: \n",
      "The text.latex.preview rcparam was deprecated in Matplotlib 3.3 and will be removed two minor releases later.\n",
      "In /home/xwm/anaconda3/envs/SV/lib/python3.6/site-packages/matplotlib/mpl-data/stylelib/_classic_test.mplstyle: \n",
      "The mathtext.fallback_to_cm rcparam was deprecated in Matplotlib 3.3 and will be removed two minor releases later.\n",
      "In /home/xwm/anaconda3/envs/SV/lib/python3.6/site-packages/matplotlib/mpl-data/stylelib/_classic_test.mplstyle: Support for setting the 'mathtext.fallback_to_cm' rcParam is deprecated since 3.3 and will be removed two minor releases later; use 'mathtext.fallback : 'cm' instead.\n",
      "In /home/xwm/anaconda3/envs/SV/lib/python3.6/site-packages/matplotlib/mpl-data/stylelib/_classic_test.mplstyle: \n",
      "The validate_bool_maybe_none function was deprecated in Matplotlib 3.3 and will be removed two minor releases later.\n",
      "In /home/xwm/anaconda3/envs/SV/lib/python3.6/site-packages/matplotlib/mpl-data/stylelib/_classic_test.mplstyle: \n",
      "The savefig.jpeg_quality rcparam was deprecated in Matplotlib 3.3 and will be removed two minor releases later.\n",
      "In /home/xwm/anaconda3/envs/SV/lib/python3.6/site-packages/matplotlib/mpl-data/stylelib/_classic_test.mplstyle: \n",
      "The keymap.all_axes rcparam was deprecated in Matplotlib 3.3 and will be removed two minor releases later.\n",
      "In /home/xwm/anaconda3/envs/SV/lib/python3.6/site-packages/matplotlib/mpl-data/stylelib/_classic_test.mplstyle: \n",
      "The animation.avconv_path rcparam was deprecated in Matplotlib 3.3 and will be removed two minor releases later.\n",
      "In /home/xwm/anaconda3/envs/SV/lib/python3.6/site-packages/matplotlib/mpl-data/stylelib/_classic_test.mplstyle: \n",
      "The animation.avconv_args rcparam was deprecated in Matplotlib 3.3 and will be removed two minor releases later.\n"
     ]
    }
   ],
   "source": [
    "from itertools import cycle\n",
    "\n",
    "import matplotlib.pyplot as plt\n",
    "import numpy as np\n",
    "import pytorch_lightning as pl\n",
    "from pytorch_lightning import seed_everything\n",
    "from scipy import interp\n",
    "from sklearn.metrics import auc, classification_report, roc_curve\n",
    "\n",
    "import torch\n",
    "from net import IDENet\n",
    "import sys\n",
    "import os\n",
    "import random\n",
    "import time\n",
    "from multiprocessing import Pool, cpu_count\n",
    "\n",
    "import numpy as np\n",
    "import pandas as pd\n",
    "import pysam\n",
    "import pytorch_lightning as pl\n",
    "import ray\n",
    "import torch\n",
    "import torch.nn as nn\n",
    "import torchvision\n",
    "from hyperopt import hp\n",
    "from pudb import set_trace\n",
    "from pytorch_lightning import seed_everything\n",
    "from pytorch_lightning.callbacks import ModelCheckpoint\n",
    "from pytorch_lightning.loggers import TensorBoardLogger\n",
    "from ray import tune\n",
    "from ray.tune import CLIReporter\n",
    "from ray.tune.integration.pytorch_lightning import (\n",
    "    TuneReportCallback, TuneReportCheckpointCallback)\n",
    "from ray.tune.schedulers import ASHAScheduler, PopulationBasedTraining\n",
    "from ray.tune.suggest import Repeater\n",
    "from ray.tune.suggest.hyperopt import HyperOptSearch\n",
    "\n",
    "import list2img\n",
    "import utilities as ut\n",
    "from net import IDENet"
   ]
  },
  {
   "cell_type": "code",
   "execution_count": 2,
   "id": "e7d810ef",
   "metadata": {},
   "outputs": [
    {
     "name": "stderr",
     "output_type": "stream",
     "text": [
      "Global seed set to 2022\n"
     ]
    }
   ],
   "source": [
    "num_cuda = \"2\"\n",
    "bs = 14\n",
    "os.environ[\"CUDA_VISIBLE_DEVICES\"] = num_cuda\n",
    "my_label = \"7+11channel_predict_5fold\"\n",
    "seed_everything(2022)\n",
    "\n",
    "# data_dir = \"../datasets/NA12878_PacBio_MtSinai/\"\n",
    "data_dir = \"/home/xwm/DeepSVFilter/datasets/NA12878_PacBio_MtSinai/\"\n",
    "\n",
    "\n",
    "bam_path = data_dir + \"sorted_final_merged.bam\"\n",
    "\n",
    "ins_vcf_filename = data_dir + \"insert_result_data.csv.vcf\"\n",
    "del_vcf_filename = data_dir + \"delete_result_data.csv.vcf\"\n",
    "\n",
    "\n",
    "all_enforcement_refresh = 0\n",
    "position_enforcement_refresh = 0\n",
    "img_enforcement_refresh = 0\n",
    "sign_enforcement_refresh = 0  # attention\n",
    "cigar_enforcement_refresh = 0\n",
    "\n",
    "# get chr list\n",
    "sam_file = pysam.AlignmentFile(bam_path, \"rb\")\n",
    "chr_list = sam_file.references\n",
    "chr_length = sam_file.lengths\n",
    "sam_file.close()\n",
    "\n",
    "hight = 224"
   ]
  },
  {
   "cell_type": "code",
   "execution_count": 3,
   "id": "76129cd4",
   "metadata": {},
   "outputs": [],
   "source": [
    "config = {\n",
    "    \"batch_size\": bs,\n",
    "    \"beta1\": 0.9,\n",
    "    \"beta2\": 0.999,\n",
    "    \"lr\": 7.187267009530772e-06,\n",
    "    \"weight_decay\": 0.0011614665567890423,\n",
    "    \"model_name\": \"resnet50\",\n",
    "    \"KFold\": 5,\n",
    "    \"KFold_num\": 2,\n",
    "    #     \"classfication_dim_stride\": 20, # no use\n",
    "}"
   ]
  },
  {
   "cell_type": "code",
   "execution_count": 4,
   "id": "26755e3c",
   "metadata": {},
   "outputs": [
    {
     "name": "stderr",
     "output_type": "stream",
     "text": [
      "Some weights of the model checkpoint at albert-base-v2 were not used when initializing AlbertModel: ['predictions.dense.bias', 'predictions.dense.weight', 'predictions.LayerNorm.bias', 'predictions.decoder.bias', 'predictions.bias', 'predictions.LayerNorm.weight', 'predictions.decoder.weight']\n",
      "- This IS expected if you are initializing AlbertModel from the checkpoint of a model trained on another task or with another architecture (e.g. initializing a BertForSequenceClassification model from a BertForPreTraining model).\n",
      "- This IS NOT expected if you are initializing AlbertModel from the checkpoint of a model that you expect to be exactly identical (initializing a BertForSequenceClassification model from a BertForSequenceClassification model).\n"
     ]
    }
   ],
   "source": [
    "model = IDENet.load_from_checkpoint(\"/home/xwm/DeepSVFilter/code/checkpoints_predict/7+11channel_predict_5fold/2-epoch=11-validation_f1=0.55-validation_mean=0.62.ckpt\", path = data_dir, config=config)"
   ]
  },
  {
   "cell_type": "code",
   "execution_count": 5,
   "id": "5f216bb5",
   "metadata": {},
   "outputs": [
    {
     "name": "stderr",
     "output_type": "stream",
     "text": [
      "GPU available: True, used: True\n",
      "TPU available: False, using: 0 TPU cores\n",
      "IPU available: False, using: 0 IPUs\n"
     ]
    }
   ],
   "source": [
    "trainer = pl.Trainer(gpus=1)"
   ]
  },
  {
   "cell_type": "code",
   "execution_count": 6,
   "id": "8973c482",
   "metadata": {},
   "outputs": [
    {
     "name": "stdout",
     "output_type": "stream",
     "text": [
      "Load dataset\n"
     ]
    },
    {
     "name": "stderr",
     "output_type": "stream",
     "text": [
      "LOCAL_RANK: 0 - CUDA_VISIBLE_DEVICES: [2]\n"
     ]
    },
    {
     "data": {
      "application/vnd.jupyter.widget-view+json": {
       "model_id": "102b17bf62e3436992704b3b5930ea72",
       "version_major": 2,
       "version_minor": 0
      },
      "text/plain": [
       "Testing: 0it [00:00, ?it/s]"
      ]
     },
     "metadata": {},
     "output_type": "display_data"
    },
    {
     "name": "stderr",
     "output_type": "stream",
     "text": [
      "Session not detected. You should not be calling `report` outside `tune.run` or while using the class API. \n",
      "  File \"/home/xwm/anaconda3/envs/SV/lib/python3.6/runpy.py\", line 193, in _run_module_as_main\n",
      "    \"__main__\", mod_spec)\n",
      "  File \"/home/xwm/anaconda3/envs/SV/lib/python3.6/runpy.py\", line 85, in _run_code\n",
      "    exec(code, run_globals)\n",
      "  File \"/home/xwm/anaconda3/envs/SV/lib/python3.6/site-packages/ipykernel_launcher.py\", line 16, in <module>\n",
      "    app.launch_new_instance()\n",
      "  File \"/home/xwm/anaconda3/envs/SV/lib/python3.6/site-packages/traitlets/config/application.py\", line 664, in launch_instance\n",
      "    app.start()\n",
      "  File \"/home/xwm/anaconda3/envs/SV/lib/python3.6/site-packages/ipykernel/kernelapp.py\", line 612, in start\n",
      "    self.io_loop.start()\n",
      "  File \"/home/xwm/anaconda3/envs/SV/lib/python3.6/site-packages/tornado/platform/asyncio.py\", line 199, in start\n",
      "    self.asyncio_loop.run_forever()\n",
      "  File \"/home/xwm/anaconda3/envs/SV/lib/python3.6/asyncio/base_events.py\", line 442, in run_forever\n",
      "    self._run_once()\n",
      "  File \"/home/xwm/anaconda3/envs/SV/lib/python3.6/asyncio/base_events.py\", line 1462, in _run_once\n",
      "    handle._run()\n",
      "  File \"/home/xwm/anaconda3/envs/SV/lib/python3.6/asyncio/events.py\", line 145, in _run\n",
      "    self._callback(*self._args)\n",
      "  File \"/home/xwm/anaconda3/envs/SV/lib/python3.6/site-packages/tornado/ioloop.py\", line 688, in <lambda>\n",
      "    lambda f: self._run_callback(functools.partial(callback, future))\n",
      "  File \"/home/xwm/anaconda3/envs/SV/lib/python3.6/site-packages/tornado/ioloop.py\", line 741, in _run_callback\n",
      "    ret = callback()\n",
      "  File \"/home/xwm/anaconda3/envs/SV/lib/python3.6/site-packages/tornado/gen.py\", line 814, in inner\n",
      "    self.ctx_run(self.run)\n",
      "  File \"/home/xwm/anaconda3/envs/SV/lib/python3.6/site-packages/tornado/gen.py\", line 162, in _fake_ctx_run\n",
      "    return f(*args, **kw)\n",
      "  File \"/home/xwm/anaconda3/envs/SV/lib/python3.6/site-packages/tornado/gen.py\", line 775, in run\n",
      "    yielded = self.gen.send(value)\n",
      "  File \"/home/xwm/anaconda3/envs/SV/lib/python3.6/site-packages/ipykernel/kernelbase.py\", line 381, in dispatch_queue\n",
      "    yield self.process_one()\n",
      "  File \"/home/xwm/anaconda3/envs/SV/lib/python3.6/site-packages/tornado/gen.py\", line 250, in wrapper\n",
      "    runner = Runner(ctx_run, result, future, yielded)\n",
      "  File \"/home/xwm/anaconda3/envs/SV/lib/python3.6/site-packages/tornado/gen.py\", line 741, in __init__\n",
      "    self.ctx_run(self.run)\n",
      "  File \"/home/xwm/anaconda3/envs/SV/lib/python3.6/site-packages/tornado/gen.py\", line 162, in _fake_ctx_run\n",
      "    return f(*args, **kw)\n",
      "  File \"/home/xwm/anaconda3/envs/SV/lib/python3.6/site-packages/tornado/gen.py\", line 775, in run\n",
      "    yielded = self.gen.send(value)\n",
      "  File \"/home/xwm/anaconda3/envs/SV/lib/python3.6/site-packages/ipykernel/kernelbase.py\", line 365, in process_one\n",
      "    yield gen.maybe_future(dispatch(*args))\n",
      "  File \"/home/xwm/anaconda3/envs/SV/lib/python3.6/site-packages/tornado/gen.py\", line 234, in wrapper\n",
      "    yielded = ctx_run(next, result)\n",
      "  File \"/home/xwm/anaconda3/envs/SV/lib/python3.6/site-packages/tornado/gen.py\", line 162, in _fake_ctx_run\n",
      "    return f(*args, **kw)\n",
      "  File \"/home/xwm/anaconda3/envs/SV/lib/python3.6/site-packages/ipykernel/kernelbase.py\", line 268, in dispatch_shell\n",
      "    yield gen.maybe_future(handler(stream, idents, msg))\n",
      "  File \"/home/xwm/anaconda3/envs/SV/lib/python3.6/site-packages/tornado/gen.py\", line 234, in wrapper\n",
      "    yielded = ctx_run(next, result)\n",
      "  File \"/home/xwm/anaconda3/envs/SV/lib/python3.6/site-packages/tornado/gen.py\", line 162, in _fake_ctx_run\n",
      "    return f(*args, **kw)\n",
      "  File \"/home/xwm/anaconda3/envs/SV/lib/python3.6/site-packages/ipykernel/kernelbase.py\", line 545, in execute_request\n",
      "    user_expressions, allow_stdin,\n",
      "  File \"/home/xwm/anaconda3/envs/SV/lib/python3.6/site-packages/tornado/gen.py\", line 234, in wrapper\n",
      "    yielded = ctx_run(next, result)\n",
      "  File \"/home/xwm/anaconda3/envs/SV/lib/python3.6/site-packages/tornado/gen.py\", line 162, in _fake_ctx_run\n",
      "    return f(*args, **kw)\n",
      "  File \"/home/xwm/anaconda3/envs/SV/lib/python3.6/site-packages/ipykernel/ipkernel.py\", line 306, in do_execute\n",
      "    res = shell.run_cell(code, store_history=store_history, silent=silent)\n",
      "  File \"/home/xwm/anaconda3/envs/SV/lib/python3.6/site-packages/ipykernel/zmqshell.py\", line 536, in run_cell\n",
      "    return super(ZMQInteractiveShell, self).run_cell(*args, **kwargs)\n",
      "  File \"/home/xwm/anaconda3/envs/SV/lib/python3.6/site-packages/IPython/core/interactiveshell.py\", line 2867, in run_cell\n",
      "    raw_cell, store_history, silent, shell_futures)\n",
      "  File \"/home/xwm/anaconda3/envs/SV/lib/python3.6/site-packages/IPython/core/interactiveshell.py\", line 2895, in _run_cell\n",
      "    return runner(coro)\n",
      "  File \"/home/xwm/anaconda3/envs/SV/lib/python3.6/site-packages/IPython/core/async_helpers.py\", line 68, in _pseudo_sync_runner\n",
      "    coro.send(None)\n",
      "  File \"/home/xwm/anaconda3/envs/SV/lib/python3.6/site-packages/IPython/core/interactiveshell.py\", line 3072, in run_cell_async\n",
      "    interactivity=interactivity, compiler=compiler, result=result)\n",
      "  File \"/home/xwm/anaconda3/envs/SV/lib/python3.6/site-packages/IPython/core/interactiveshell.py\", line 3263, in run_ast_nodes\n",
      "    if (await self.run_code(code, result,  async_=asy)):\n",
      "  File \"/home/xwm/anaconda3/envs/SV/lib/python3.6/site-packages/IPython/core/interactiveshell.py\", line 3343, in run_code\n",
      "    exec(code_obj, self.user_global_ns, self.user_ns)\n",
      "  File \"<ipython-input-6-0d4ab0b74e1a>\", line 2, in <module>\n",
      "    result = trainer.test(model)\n",
      "  File \"/home/xwm/anaconda3/envs/SV/lib/python3.6/site-packages/pytorch_lightning/trainer/trainer.py\", line 911, in test\n",
      "    return self._call_and_handle_interrupt(self._test_impl, model, dataloaders, ckpt_path, verbose, datamodule)\n",
      "  File \"/home/xwm/anaconda3/envs/SV/lib/python3.6/site-packages/pytorch_lightning/trainer/trainer.py\", line 685, in _call_and_handle_interrupt\n",
      "    return trainer_fn(*args, **kwargs)\n",
      "  File \"/home/xwm/anaconda3/envs/SV/lib/python3.6/site-packages/pytorch_lightning/trainer/trainer.py\", line 954, in _test_impl\n",
      "    results = self._run(model, ckpt_path=self.tested_ckpt_path)\n",
      "  File \"/home/xwm/anaconda3/envs/SV/lib/python3.6/site-packages/pytorch_lightning/trainer/trainer.py\", line 1199, in _run\n",
      "    self._dispatch()\n",
      "  File \"/home/xwm/anaconda3/envs/SV/lib/python3.6/site-packages/pytorch_lightning/trainer/trainer.py\", line 1275, in _dispatch\n",
      "    self.training_type_plugin.start_evaluating(self)\n",
      "  File \"/home/xwm/anaconda3/envs/SV/lib/python3.6/site-packages/pytorch_lightning/plugins/training_type/training_type_plugin.py\", line 206, in start_evaluating\n",
      "    self._results = trainer.run_stage()\n",
      "  File \"/home/xwm/anaconda3/envs/SV/lib/python3.6/site-packages/pytorch_lightning/trainer/trainer.py\", line 1286, in run_stage\n",
      "    return self._run_evaluate()\n",
      "  File \"/home/xwm/anaconda3/envs/SV/lib/python3.6/site-packages/pytorch_lightning/trainer/trainer.py\", line 1334, in _run_evaluate\n",
      "    eval_loop_results = self._evaluation_loop.run()\n",
      "  File \"/home/xwm/anaconda3/envs/SV/lib/python3.6/site-packages/pytorch_lightning/loops/base.py\", line 151, in run\n",
      "    output = self.on_run_end()\n",
      "  File \"/home/xwm/anaconda3/envs/SV/lib/python3.6/site-packages/pytorch_lightning/loops/dataloader/evaluation_loop.py\", line 131, in on_run_end\n",
      "    self._evaluation_epoch_end(outputs)\n",
      "  File \"/home/xwm/anaconda3/envs/SV/lib/python3.6/site-packages/pytorch_lightning/loops/dataloader/evaluation_loop.py\", line 231, in _evaluation_epoch_end\n",
      "    model.test_epoch_end(outputs)\n",
      "  File \"/home/xwm/DeepSVFilter/code/net.py\", line 648, in test_epoch_end\n",
      "    self.validation_epoch_end(output)\n",
      "  File \"/home/xwm/DeepSVFilter/code/net.py\", line 634, in validation_epoch_end\n",
      "    tune.report(validation_f1=metric['macro avg']['f1-score'])\n",
      "\n"
     ]
    },
    {
     "name": "stdout",
     "output_type": "stream",
     "text": [
      "--------------------------------------------------------------------------------\n",
      "DATALOADER:0 TEST RESULTS\n",
      "{'validation_0_pre': 0.5176045894622803,\n",
      " 'validation_0_re': 0.8078829050064087,\n",
      " 'validation_1_pre': 0.8505747318267822,\n",
      " 'validation_1_re': 0.12359818816184998,\n",
      " 'validation_2_pre': 0.7312002778053284,\n",
      " 'validation_2_re': 0.9110360145568848,\n",
      " 'validation_f1': 0.5526878237724304,\n",
      " 'validation_loss': 0.48772984743118286,\n",
      " 'validation_loss_epoch': 0.48772984743118286,\n",
      " 'validation_macro_pre': 0.6997932195663452,\n",
      " 'validation_macro_re': 0.6141723394393921,\n",
      " 'validation_mean': 0.6235176920890808}\n",
      "--------------------------------------------------------------------------------\n"
     ]
    }
   ],
   "source": [
    "model.eval()\n",
    "result = trainer.test(model)"
   ]
  },
  {
   "cell_type": "code",
   "execution_count": 7,
   "id": "ffa30362",
   "metadata": {},
   "outputs": [],
   "source": [
    "output = torch.load(\"result.pt\")"
   ]
  },
  {
   "cell_type": "code",
   "execution_count": 8,
   "id": "7e335a00",
   "metadata": {},
   "outputs": [],
   "source": [
    "y = []\n",
    "y_hat = []\n",
    "\n",
    "for out in output:\n",
    "    y.extend(out['y'])\n",
    "    y_hat.extend(out['y_hat'])\n",
    "\n",
    "y = torch.tensor(y).reshape(-1)\n",
    "y_hat = torch.tensor(y_hat).reshape(-1)\n",
    "\n",
    "metric = classification_report(y, y_hat, output_dict=True)"
   ]
  },
  {
   "cell_type": "code",
   "execution_count": 9,
   "id": "05d5187e",
   "metadata": {},
   "outputs": [
    {
     "data": {
      "text/plain": [
       "{'0': {'precision': 0.5176046176046176,\n",
       "  'recall': 0.8078828828828829,\n",
       "  'f1-score': 0.6309586631486367,\n",
       "  'support': 4440},\n",
       " '1': {'precision': 0.8505747126436781,\n",
       "  'recall': 0.12359818659031258,\n",
       "  'f1-score': 0.21583333333333335,\n",
       "  'support': 4191},\n",
       " '2': {'precision': 0.7312002892263196,\n",
       "  'recall': 0.911036036036036,\n",
       "  'f1-score': 0.8112715603690333,\n",
       "  'support': 4440},\n",
       " 'accuracy': 0.623517710963201,\n",
       " 'macro avg': {'precision': 0.6997932064915385,\n",
       "  'recall': 0.6141723685030772,\n",
       "  'f1-score': 0.5526878522836678,\n",
       "  'support': 13071},\n",
       " 'weighted avg': {'precision': 0.6969208482150575,\n",
       "  'recall': 0.623517710963201,\n",
       "  'f1-score': 0.5591048651532747,\n",
       "  'support': 13071}}"
      ]
     },
     "execution_count": 9,
     "metadata": {},
     "output_type": "execute_result"
    }
   ],
   "source": [
    "metric"
   ]
  },
  {
   "cell_type": "code",
   "execution_count": 10,
   "id": "415bf60d",
   "metadata": {},
   "outputs": [
    {
     "name": "stdout",
     "output_type": "stream",
     "text": [
      "Confusion matrix, without normalization\n"
     ]
    },
    {
     "data": {
      "image/png": "[encoded data removed]",
      "text/plain": [
       "<Figure size 432x288 with 2 Axes>"
      ]
     },
     "metadata": {
      "needs_background": "light"
     },
     "output_type": "display_data"
    }
   ],
   "source": [
    "# 导入所需的库\n",
    "import matplotlib.pyplot as plt\n",
    "from sklearn.metrics import confusion_matrix\n",
    "import numpy as np\n",
    "import itertools\n",
    "\n",
    "# 定义真实标签和预测标签\n",
    "y_true = y\n",
    "y_pred = y_hat\n",
    "\n",
    "# 计算混淆矩阵\n",
    "cm = confusion_matrix(y_true, y_pred)\n",
    "\n",
    "# 定义类别名称\n",
    "classes = [\"None\", \"Delete\", \"Insert\"]\n",
    "\n",
    "# 定义绘制混淆矩阵的函数\n",
    "def plot_confusion_matrix(cm, classes, normalize=False, title='Confusion matrix', cmap=plt.cm.Blues):\n",
    "    # 显示混淆矩阵的图像\n",
    "    plt.imshow(cm, interpolation='nearest', cmap=cmap)\n",
    "    # 设置标题和颜色条\n",
    "    plt.title(title)\n",
    "    plt.colorbar()\n",
    "    # 设置刻度和标签\n",
    "    tick_marks = np.arange(len(classes))\n",
    "    plt.xticks(tick_marks, classes, rotation=45)\n",
    "    plt.yticks(tick_marks, classes)\n",
    "    # 根据是否归一化来显示数值\n",
    "    if normalize:\n",
    "        cm = cm.astype('float') / cm.sum(axis=1)[:, np.newaxis]\n",
    "        print(\"Normalized confusion matrix\")\n",
    "    else:\n",
    "        print('Confusion matrix, without normalization')\n",
    "    # 在每个单元格中显示数值\n",
    "    thresh = cm.max() / 2.\n",
    "    for i, j in itertools.product(range(cm.shape[0]), range(cm.shape[1])):\n",
    "        plt.text(j, i, cm[i, j],\n",
    "                 horizontalalignment=\"center\",\n",
    "                 color=\"white\" if cm[i, j] > thresh else \"black\")\n",
    "    # 调整布局和坐标轴标签\n",
    "    plt.tight_layout()\n",
    "    plt.ylabel('True label')\n",
    "    plt.xlabel('Predicted label')\n",
    "\n",
    "# 调用绘制混淆矩阵的函数\n",
    "plot_confusion_matrix(cm, classes)\n",
    "\n",
    "plt.savefig(\"4-cm.svg\", dpi = 600)\n",
    "\n",
    "# 显示图像\n",
    "plt.show()"
   ]
  },
  {
   "cell_type": "code",
   "execution_count": 11,
   "id": "9d4a607e",
   "metadata": {},
   "outputs": [
    {
     "data": {
      "text/plain": [
       "[{'image': tensor([[[ 4.,  4.,  4.,  ...,  0.,  0.,  0.],\n",
       "           [ 4.,  4.,  4.,  ...,  0.,  0.,  0.],\n",
       "           [ 4.,  4.,  4.,  ...,  0.,  0.,  0.],\n",
       "           ...,\n",
       "           [ 4.,  4.,  4.,  ...,  0.,  0.,  0.],\n",
       "           [ 4.,  4.,  4.,  ...,  0.,  0.,  0.],\n",
       "           [ 4.,  4.,  4.,  ...,  0.,  0.,  0.]],\n",
       "  \n",
       "          [[ 4.,  4.,  4.,  ...,  0.,  0.,  0.],\n",
       "           [ 4.,  4.,  4.,  ...,  0.,  0.,  0.],\n",
       "           [ 4.,  4.,  4.,  ...,  0.,  0.,  0.],\n",
       "           ...,\n",
       "           [ 4.,  4.,  4.,  ...,  0.,  0.,  0.],\n",
       "           [ 4.,  4.,  4.,  ...,  0.,  0.,  0.],\n",
       "           [ 4.,  4.,  4.,  ...,  0.,  0.,  0.]],\n",
       "  \n",
       "          [[24., 24., 24.,  ...,  0.,  0.,  0.],\n",
       "           [24., 24., 24.,  ...,  0.,  0.,  0.],\n",
       "           [24., 24., 24.,  ...,  0.,  0.,  0.],\n",
       "           ...,\n",
       "           [24., 24., 24.,  ...,  0.,  0.,  0.],\n",
       "           [24., 24., 24.,  ...,  0.,  0.,  0.],\n",
       "           [24., 24., 24.,  ...,  0.,  0.,  0.]],\n",
       "  \n",
       "          ...,\n",
       "  \n",
       "          [[11., 11., 11.,  ...,  0.,  0.,  0.],\n",
       "           [11., 11., 11.,  ...,  0.,  0.,  0.],\n",
       "           [11., 11., 11.,  ...,  0.,  0.,  0.],\n",
       "           ...,\n",
       "           [11., 11., 11.,  ...,  0.,  0.,  0.],\n",
       "           [11., 11., 11.,  ...,  0.,  0.,  0.],\n",
       "           [11., 11., 11.,  ...,  0.,  0.,  0.]],\n",
       "  \n",
       "          [[22., 22., 22.,  ...,  0.,  0.,  0.],\n",
       "           [22., 22., 22.,  ...,  0.,  0.,  0.],\n",
       "           [22., 22., 22.,  ...,  0.,  0.,  0.],\n",
       "           ...,\n",
       "           [22., 22., 22.,  ...,  0.,  0.,  0.],\n",
       "           [22., 22., 22.,  ...,  0.,  0.,  0.],\n",
       "           [22., 22., 22.,  ...,  0.,  0.,  0.]],\n",
       "  \n",
       "          [[ 4.,  4.,  4.,  ...,  0.,  0.,  0.],\n",
       "           [ 4.,  4.,  4.,  ...,  0.,  0.,  0.],\n",
       "           [ 4.,  4.,  4.,  ...,  0.,  0.,  0.],\n",
       "           ...,\n",
       "           [ 4.,  4.,  4.,  ...,  0.,  0.,  0.],\n",
       "           [ 4.,  4.,  4.,  ...,  0.,  0.,  0.],\n",
       "           [ 4.,  4.,  4.,  ...,  0.,  0.,  0.]]]),\n",
       "  'list': tensor([[2.0000, 1.0000, 1.0000,  ..., 1.0000, 0.0000, 0.0000],\n",
       "          [2.4365, 1.0000, 1.0000,  ..., 1.0000, 0.0000, 0.0000],\n",
       "          [3.7275, 1.0000, 1.0000,  ..., 1.0000, 0.0000, 0.0000],\n",
       "          ...,\n",
       "          [2.4551, 2.1826, 2.1826,  ..., 2.9102, 0.7275, 0.1819],\n",
       "          [3.2539, 0.5635, 0.5635,  ..., 0.8452, 0.4880, 0.3253],\n",
       "          [1.5820, 0.1455, 0.1455,  ..., 0.2183, 0.1260, 0.0840]])},\n",
       " 1]"
      ]
     },
     "execution_count": 11,
     "metadata": {},
     "output_type": "execute_result"
    }
   ],
   "source": [
    "torch.load(\"/home/xwm/DeepSVFilter/datasets/NA12878_PacBio_MtSinai/del/0.pt\")"
   ]
  },
  {
   "cell_type": "code",
   "execution_count": 12,
   "id": "c7694a84",
   "metadata": {},
   "outputs": [
    {
     "data": {
      "text/plain": [
       "[{'image': tensor([[[ 17.0000,  17.0000,  17.0000,  ...,   0.0000,   0.0000,   0.0000],\n",
       "           [ 17.0000,  17.0000,  17.0000,  ...,   0.0000,   0.0000,   0.0000],\n",
       "           [ 17.0000,  17.0000,  17.0000,  ...,   0.0000,   0.0000,   0.0000],\n",
       "           ...,\n",
       "           [ 17.0000,  17.0000,  17.0000,  ...,   0.0000,   0.0000,   0.0000],\n",
       "           [ 17.0000,  17.0000,  17.0000,  ...,   0.0000,   0.0000,   0.0000],\n",
       "           [ 17.0000,  17.0000,  17.0000,  ...,   0.0000,   0.0000,   0.0000]],\n",
       "  \n",
       "          [[ 19.0000,  19.0000,  19.0000,  ...,   0.0000,   0.0000,   0.0000],\n",
       "           [ 19.0000,  19.0000,  19.0000,  ...,   0.0000,   0.0000,   0.0000],\n",
       "           [ 19.0000,  19.0000,  19.0000,  ...,   0.0000,   0.0000,   0.0000],\n",
       "           ...,\n",
       "           [ 19.0000,  19.0000,  19.0000,  ...,   0.0000,   0.0000,   0.0000],\n",
       "           [ 19.0000,  19.0000,  19.0000,  ...,   0.0000,   0.0000,   0.0000],\n",
       "           [ 19.0000,  19.0000,  19.0000,  ...,   0.0000,   0.0000,   0.0000]],\n",
       "  \n",
       "          [[ 21.0000,  21.0000,  21.0000,  ...,   0.0000,   0.0000,   0.0000],\n",
       "           [ 21.0000,  21.0000,  21.0000,  ...,   0.0000,   0.0000,   0.0000],\n",
       "           [ 21.0000,  21.0000,  21.0000,  ...,   0.0000,   0.0000,   0.0000],\n",
       "           ...,\n",
       "           [ 21.0000,  21.0000,  21.0000,  ...,   0.0000,   0.0000,   0.0000],\n",
       "           [ 21.0000,  21.0000,  21.0000,  ...,   0.0000,   0.0000,   0.0000],\n",
       "           [ 21.0000,  21.0000,  21.0000,  ...,   0.0000,   0.0000,   0.0000]],\n",
       "  \n",
       "          ...,\n",
       "  \n",
       "          [[139.0000, 139.0000, 139.0000,  ...,   0.0000,   0.0000,   0.0000],\n",
       "           [139.0000, 139.0000, 139.0000,  ...,   0.0000,   0.0000,   0.0000],\n",
       "           [139.0000, 139.0000, 131.8638,  ...,   0.0000,   0.0000,   0.0000],\n",
       "           ...,\n",
       "           [139.0000, 139.0000, 139.0000,  ...,   0.0000,   0.0000,   0.0000],\n",
       "           [139.0000, 139.0000, 139.0000,  ...,   0.0000,   0.0000,   0.0000],\n",
       "           [139.0000, 139.0000, 139.0000,  ...,   0.0000,   0.0000,   0.0000]],\n",
       "  \n",
       "          [[  7.0000,   7.0000,   7.0000,  ...,   0.0000,   0.0000,   0.0000],\n",
       "           [  7.0000,   7.0000,   7.0000,  ...,   0.0000,   0.0000,   0.0000],\n",
       "           [  7.0000,   7.0000,   7.0000,  ...,   0.0000,   0.0000,   0.0000],\n",
       "           ...,\n",
       "           [  7.0000,   7.0000,   7.0000,  ...,   0.0000,   0.0000,   0.0000],\n",
       "           [  7.0000,   7.0000,   7.0000,  ...,   0.0000,   0.0000,   0.0000],\n",
       "           [  7.0000,   7.0000,   7.0000,  ...,   0.0000,   0.0000,   0.0000]],\n",
       "  \n",
       "          [[ 13.0000,  13.0000,  13.0000,  ...,   0.0000,   0.0000,   0.0000],\n",
       "           [ 13.0000,  13.0000,  13.0000,  ...,   0.0000,   0.0000,   0.0000],\n",
       "           [ 13.0000,  13.0000,  13.0000,  ...,   0.0000,   0.0000,   0.0000],\n",
       "           ...,\n",
       "           [ 13.0000,  13.0000,  13.0000,  ...,   0.0000,   0.0000,   0.0000],\n",
       "           [ 13.0000,  13.0000,  13.0000,  ...,   0.0000,   0.0000,   0.0000],\n",
       "           [ 13.0000,  13.0000,  13.0000,  ...,   0.0000,   0.0000,   0.0000]]]),\n",
       "  'list': tensor([[3.0000, 1.0000, 1.0000,  ..., 1.0000, 0.0000, 0.0000],\n",
       "          [3.1562, 1.0000, 1.0000,  ..., 1.0521, 0.0737, 0.0552],\n",
       "          [3.5938, 1.0000, 1.0000,  ..., 1.1979, 0.2799, 0.2099],\n",
       "          ...,\n",
       "          [5.7812, 1.0000, 1.0000,  ..., 3.8229, 3.9384, 0.9355],\n",
       "          [4.4688, 1.0000, 1.0000,  ..., 5.4271, 6.2467, 1.1146],\n",
       "          [4.0000, 1.0000, 1.0000,  ..., 6.0000, 7.0711, 1.1785]])},\n",
       " 2]"
      ]
     },
     "execution_count": 12,
     "metadata": {},
     "output_type": "execute_result"
    }
   ],
   "source": [
    "torch.load(\"/home/xwm/DeepSVFilter/datasets/NA12878_PacBio_MtSinai/ins/0.pt\")"
   ]
  },
  {
   "cell_type": "code",
   "execution_count": 13,
   "id": "72a6ffd7",
   "metadata": {},
   "outputs": [
    {
     "data": {
      "text/plain": [
       "[{'image': tensor([[[ 8.,  8.,  8.,  ...,  0.,  0.,  0.],\n",
       "           [ 8.,  8.,  8.,  ...,  0.,  0.,  0.],\n",
       "           [ 8.,  8.,  8.,  ...,  0.,  0.,  0.],\n",
       "           ...,\n",
       "           [ 8.,  8.,  8.,  ...,  0.,  0.,  0.],\n",
       "           [ 8.,  8.,  8.,  ...,  0.,  0.,  0.],\n",
       "           [ 8.,  8.,  8.,  ...,  0.,  0.,  0.]],\n",
       "  \n",
       "          [[ 8.,  8.,  8.,  ...,  0.,  0.,  0.],\n",
       "           [ 8.,  8.,  8.,  ...,  0.,  0.,  0.],\n",
       "           [ 8.,  8.,  8.,  ...,  0.,  0.,  0.],\n",
       "           ...,\n",
       "           [ 8.,  8.,  8.,  ...,  0.,  0.,  0.],\n",
       "           [ 8.,  8.,  8.,  ...,  0.,  0.,  0.],\n",
       "           [ 8.,  8.,  8.,  ...,  0.,  0.,  0.]],\n",
       "  \n",
       "          [[19., 19., 19.,  ...,  0.,  0.,  0.],\n",
       "           [19., 19., 19.,  ...,  0.,  0.,  0.],\n",
       "           [19., 19., 19.,  ...,  0.,  0.,  0.],\n",
       "           ...,\n",
       "           [19., 19., 19.,  ...,  0.,  0.,  0.],\n",
       "           [19., 19., 19.,  ...,  0.,  0.,  0.],\n",
       "           [19., 19., 19.,  ...,  0.,  0.,  0.]],\n",
       "  \n",
       "          ...,\n",
       "  \n",
       "          [[44., 44., 44.,  ...,  0.,  0.,  0.],\n",
       "           [44., 44., 44.,  ...,  0.,  0.,  0.],\n",
       "           [44., 44., 44.,  ...,  0.,  0.,  0.],\n",
       "           ...,\n",
       "           [44., 44., 44.,  ...,  0.,  0.,  0.],\n",
       "           [44., 44., 44.,  ...,  0.,  0.,  0.],\n",
       "           [44., 44., 44.,  ...,  0.,  0.,  0.]],\n",
       "  \n",
       "          [[15., 15., 15.,  ...,  0.,  0.,  0.],\n",
       "           [15., 15., 15.,  ...,  0.,  0.,  0.],\n",
       "           [15., 15., 15.,  ...,  0.,  0.,  0.],\n",
       "           ...,\n",
       "           [15., 15., 15.,  ...,  0.,  0.,  0.],\n",
       "           [15., 15., 15.,  ...,  0.,  0.,  0.],\n",
       "           [15., 15., 15.,  ...,  0.,  0.,  0.]],\n",
       "  \n",
       "          [[ 8.,  8.,  8.,  ...,  0.,  0.,  0.],\n",
       "           [ 8.,  8.,  8.,  ...,  0.,  0.,  0.],\n",
       "           [ 8.,  8.,  8.,  ...,  0.,  0.,  0.],\n",
       "           ...,\n",
       "           [ 8.,  8.,  8.,  ...,  0.,  0.,  0.],\n",
       "           [ 8.,  8.,  8.,  ...,  0.,  0.,  0.],\n",
       "           [ 8.,  8.,  8.,  ...,  0.,  0.,  0.]]]),\n",
       "  'list': tensor([[7.0000, 1.0000, 1.0000,  ..., 1.3333, 0.4714, 0.3536],\n",
       "          [7.0000, 1.0000, 1.0000,  ..., 1.3333, 0.4714, 0.3536],\n",
       "          [7.9170, 1.0000, 1.0000,  ..., 1.3333, 0.4714, 0.3536],\n",
       "          ...,\n",
       "          [5.7510, 1.0000, 1.0000,  ..., 1.4305, 0.4833, 0.3384],\n",
       "          [3.0000, 1.0000, 1.0000,  ..., 1.5000, 0.5000, 0.3333],\n",
       "          [3.0000, 1.0000, 1.0000,  ..., 1.5000, 0.5000, 0.3333]])},\n",
       " 0]"
      ]
     },
     "execution_count": 13,
     "metadata": {},
     "output_type": "execute_result"
    }
   ],
   "source": [
    "torch.load(\"/home/xwm/DeepSVFilter/datasets/NA12878_PacBio_MtSinai/n/0.pt\")"
   ]
  },
  {
   "cell_type": "code",
   "execution_count": null,
   "id": "81d84256",
   "metadata": {},
   "outputs": [],
   "source": []
  }
 ],
 "metadata": {
  "kernelspec": {
   "display_name": "Python 3",
   "language": "python",
   "name": "python3"
  },
  "language_info": {
   "codemirror_mode": {
    "name": "ipython",
    "version": 3
   },
   "file_extension": ".py",
   "mimetype": "text/x-python",
   "name": "python",
   "nbconvert_exporter": "python",
   "pygments_lexer": "ipython3",
   "version": "3.6.13"
  }
 },
 "nbformat": 4,
 "nbformat_minor": 5
}
